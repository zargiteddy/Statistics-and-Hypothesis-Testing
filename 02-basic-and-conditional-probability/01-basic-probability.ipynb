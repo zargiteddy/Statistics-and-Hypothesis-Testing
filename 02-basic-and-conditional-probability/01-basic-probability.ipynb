{
 "cells": [
  {
   "cell_type": "markdown",
   "id": "5a3db0a5",
   "metadata": {},
   "source": [
    "# Basic Probability"
   ]
  },
  {
   "cell_type": "code",
   "execution_count": 1,
   "id": "845c94ff",
   "metadata": {},
   "outputs": [],
   "source": [
    "import pandas as pd\n",
    "import numpy as np"
   ]
  },
  {
   "cell_type": "code",
   "execution_count": 2,
   "id": "638fabd5",
   "metadata": {},
   "outputs": [
    {
     "data": {
      "text/html": [
       "<div>\n",
       "<style scoped>\n",
       "    .dataframe tbody tr th:only-of-type {\n",
       "        vertical-align: middle;\n",
       "    }\n",
       "\n",
       "    .dataframe tbody tr th {\n",
       "        vertical-align: top;\n",
       "    }\n",
       "\n",
       "    .dataframe thead th {\n",
       "        text-align: right;\n",
       "    }\n",
       "</style>\n",
       "<table border=\"1\" class=\"dataframe\">\n",
       "  <thead>\n",
       "    <tr style=\"text-align: right;\">\n",
       "      <th></th>\n",
       "      <th>id</th>\n",
       "      <th>Season</th>\n",
       "      <th>city</th>\n",
       "      <th>date</th>\n",
       "      <th>team1</th>\n",
       "      <th>team2</th>\n",
       "      <th>toss_winner</th>\n",
       "      <th>toss_decision</th>\n",
       "      <th>result</th>\n",
       "      <th>dl_applied</th>\n",
       "      <th>winner</th>\n",
       "      <th>win_by_runs</th>\n",
       "      <th>win_by_wickets</th>\n",
       "      <th>player_of_match</th>\n",
       "      <th>venue</th>\n",
       "      <th>umpire1</th>\n",
       "      <th>umpire2</th>\n",
       "      <th>umpire3</th>\n",
       "    </tr>\n",
       "  </thead>\n",
       "  <tbody>\n",
       "    <tr>\n",
       "      <th>0</th>\n",
       "      <td>1</td>\n",
       "      <td>IPL-2017</td>\n",
       "      <td>Hyderabad</td>\n",
       "      <td>2017-05-04 00:00:00</td>\n",
       "      <td>Sunrisers Hyderabad</td>\n",
       "      <td>Royal Challengers Bangalore</td>\n",
       "      <td>Royal Challengers Bangalore</td>\n",
       "      <td>field</td>\n",
       "      <td>normal</td>\n",
       "      <td>0</td>\n",
       "      <td>Sunrisers Hyderabad</td>\n",
       "      <td>35</td>\n",
       "      <td>0</td>\n",
       "      <td>Yuvraj Singh</td>\n",
       "      <td>Rajiv Gandhi International Stadium, Uppal</td>\n",
       "      <td>AY Dandekar</td>\n",
       "      <td>NJ Llong</td>\n",
       "      <td>NaN</td>\n",
       "    </tr>\n",
       "    <tr>\n",
       "      <th>1</th>\n",
       "      <td>2</td>\n",
       "      <td>IPL-2017</td>\n",
       "      <td>Pune</td>\n",
       "      <td>2017-06-04 00:00:00</td>\n",
       "      <td>Mumbai Indians</td>\n",
       "      <td>Rising Pune Supergiant</td>\n",
       "      <td>Rising Pune Supergiant</td>\n",
       "      <td>field</td>\n",
       "      <td>normal</td>\n",
       "      <td>0</td>\n",
       "      <td>Rising Pune Supergiant</td>\n",
       "      <td>0</td>\n",
       "      <td>7</td>\n",
       "      <td>SPD Smith</td>\n",
       "      <td>Maharashtra Cricket Association Stadium</td>\n",
       "      <td>A Nand Kishore</td>\n",
       "      <td>S Ravi</td>\n",
       "      <td>NaN</td>\n",
       "    </tr>\n",
       "    <tr>\n",
       "      <th>2</th>\n",
       "      <td>3</td>\n",
       "      <td>IPL-2017</td>\n",
       "      <td>Rajkot</td>\n",
       "      <td>2017-07-04 00:00:00</td>\n",
       "      <td>Gujarat Lions</td>\n",
       "      <td>Kolkata Knight Riders</td>\n",
       "      <td>Kolkata Knight Riders</td>\n",
       "      <td>field</td>\n",
       "      <td>normal</td>\n",
       "      <td>0</td>\n",
       "      <td>Kolkata Knight Riders</td>\n",
       "      <td>0</td>\n",
       "      <td>10</td>\n",
       "      <td>CA Lynn</td>\n",
       "      <td>Saurashtra Cricket Association Stadium</td>\n",
       "      <td>Nitin Menon</td>\n",
       "      <td>CK Nandan</td>\n",
       "      <td>NaN</td>\n",
       "    </tr>\n",
       "    <tr>\n",
       "      <th>3</th>\n",
       "      <td>4</td>\n",
       "      <td>IPL-2017</td>\n",
       "      <td>Indore</td>\n",
       "      <td>2017-08-04 00:00:00</td>\n",
       "      <td>Rising Pune Supergiant</td>\n",
       "      <td>Kings XI Punjab</td>\n",
       "      <td>Kings XI Punjab</td>\n",
       "      <td>field</td>\n",
       "      <td>normal</td>\n",
       "      <td>0</td>\n",
       "      <td>Kings XI Punjab</td>\n",
       "      <td>0</td>\n",
       "      <td>6</td>\n",
       "      <td>GJ Maxwell</td>\n",
       "      <td>Holkar Cricket Stadium</td>\n",
       "      <td>AK Chaudhary</td>\n",
       "      <td>C Shamshuddin</td>\n",
       "      <td>NaN</td>\n",
       "    </tr>\n",
       "    <tr>\n",
       "      <th>4</th>\n",
       "      <td>5</td>\n",
       "      <td>IPL-2017</td>\n",
       "      <td>Bangalore</td>\n",
       "      <td>2017-08-04 00:00:00</td>\n",
       "      <td>Royal Challengers Bangalore</td>\n",
       "      <td>Delhi Daredevils</td>\n",
       "      <td>Royal Challengers Bangalore</td>\n",
       "      <td>bat</td>\n",
       "      <td>normal</td>\n",
       "      <td>0</td>\n",
       "      <td>Royal Challengers Bangalore</td>\n",
       "      <td>15</td>\n",
       "      <td>0</td>\n",
       "      <td>KM Jadhav</td>\n",
       "      <td>M Chinnaswamy Stadium</td>\n",
       "      <td>NaN</td>\n",
       "      <td>NaN</td>\n",
       "      <td>NaN</td>\n",
       "    </tr>\n",
       "  </tbody>\n",
       "</table>\n",
       "</div>"
      ],
      "text/plain": [
       "   id    Season       city                 date                        team1  \\\n",
       "0   1  IPL-2017  Hyderabad  2017-05-04 00:00:00          Sunrisers Hyderabad   \n",
       "1   2  IPL-2017       Pune  2017-06-04 00:00:00               Mumbai Indians   \n",
       "2   3  IPL-2017     Rajkot  2017-07-04 00:00:00                Gujarat Lions   \n",
       "3   4  IPL-2017     Indore  2017-08-04 00:00:00       Rising Pune Supergiant   \n",
       "4   5  IPL-2017  Bangalore  2017-08-04 00:00:00  Royal Challengers Bangalore   \n",
       "\n",
       "                         team2                  toss_winner toss_decision  \\\n",
       "0  Royal Challengers Bangalore  Royal Challengers Bangalore         field   \n",
       "1       Rising Pune Supergiant       Rising Pune Supergiant         field   \n",
       "2        Kolkata Knight Riders        Kolkata Knight Riders         field   \n",
       "3              Kings XI Punjab              Kings XI Punjab         field   \n",
       "4             Delhi Daredevils  Royal Challengers Bangalore           bat   \n",
       "\n",
       "   result  dl_applied                       winner  win_by_runs  \\\n",
       "0  normal           0          Sunrisers Hyderabad           35   \n",
       "1  normal           0       Rising Pune Supergiant            0   \n",
       "2  normal           0        Kolkata Knight Riders            0   \n",
       "3  normal           0              Kings XI Punjab            0   \n",
       "4  normal           0  Royal Challengers Bangalore           15   \n",
       "\n",
       "   win_by_wickets player_of_match                                      venue  \\\n",
       "0               0    Yuvraj Singh  Rajiv Gandhi International Stadium, Uppal   \n",
       "1               7       SPD Smith    Maharashtra Cricket Association Stadium   \n",
       "2              10         CA Lynn     Saurashtra Cricket Association Stadium   \n",
       "3               6      GJ Maxwell                     Holkar Cricket Stadium   \n",
       "4               0       KM Jadhav                      M Chinnaswamy Stadium   \n",
       "\n",
       "          umpire1        umpire2 umpire3  \n",
       "0     AY Dandekar       NJ Llong     NaN  \n",
       "1  A Nand Kishore         S Ravi     NaN  \n",
       "2     Nitin Menon      CK Nandan     NaN  \n",
       "3    AK Chaudhary  C Shamshuddin     NaN  \n",
       "4             NaN            NaN     NaN  "
      ]
     },
     "execution_count": 2,
     "metadata": {},
     "output_type": "execute_result"
    }
   ],
   "source": [
    "data = pd.read_excel(\"matches.xlsx\")\n",
    "data.head()"
   ]
  },
  {
   "cell_type": "code",
   "execution_count": 4,
   "id": "f8752830",
   "metadata": {},
   "outputs": [
    {
     "data": {
      "text/plain": [
       "Index(['id', 'Season', 'city', 'date', 'team1', 'team2', 'toss_winner',\n",
       "       'toss_decision', 'result', 'dl_applied', 'winner', 'win_by_runs',\n",
       "       'win_by_wickets', 'player_of_match', 'venue', 'umpire1', 'umpire2',\n",
       "       'umpire3'],\n",
       "      dtype='object')"
      ]
     },
     "execution_count": 4,
     "metadata": {},
     "output_type": "execute_result"
    }
   ],
   "source": [
    "data.columns"
   ]
  },
  {
   "cell_type": "markdown",
   "id": "c10c3424",
   "metadata": {},
   "source": [
    "### Calculating the probability of a team winning a match"
   ]
  },
  {
   "cell_type": "code",
   "execution_count": 5,
   "id": "9d618ad0",
   "metadata": {},
   "outputs": [
    {
     "name": "stdout",
     "output_type": "stream",
     "text": [
      "Probability of Mumbai Indians winning a match:14.42%\n"
     ]
    }
   ],
   "source": [
    "# total number of matches\n",
    "matches = len(data)\n",
    "\n",
    "# total number of macthes won by Mumbai Indians\n",
    "wins = len(data[data['winner'] == 'Mumbai Indians'])\n",
    "\n",
    "probability = wins / matches\n",
    "print(\"Probability of Mumbai Indians winning a match:{0:.2f}%\".format(probability*100))"
   ]
  },
  {
   "cell_type": "markdown",
   "id": "1b1b9070",
   "metadata": {},
   "source": [
    "### Calculating the probability distribution of toss results"
   ]
  },
  {
   "cell_type": "code",
   "execution_count": 6,
   "id": "bde1db68",
   "metadata": {},
   "outputs": [
    {
     "name": "stdout",
     "output_type": "stream",
     "text": [
      "Probability distribution of toss results:\n",
      "Mumbai Indians                 12.96\n",
      "Kolkata Knight Riders          12.17\n",
      "Chennai Super Kings            11.77\n",
      "Royal Challengers Bangalore    10.71\n",
      "Kings XI Punjab                10.71\n",
      "Delhi Daredevils               10.58\n",
      "Rajasthan Royals               10.58\n",
      "Sunrisers Hyderabad             6.08\n",
      "Deccan Chargers                 5.69\n",
      "Pune Warriors                   2.65\n",
      "Gujarat Lions                   1.98\n",
      "Delhi Capitals                  1.32\n",
      "Kochi Tuskers Kerala            1.06\n",
      "Rising Pune Supergiants         0.93\n",
      "Rising Pune Supergiant          0.79\n",
      "Name: toss_winner, dtype: float64\n"
     ]
    }
   ],
   "source": [
    "# count of each team winning the toss\n",
    "toss_counts = data['toss_winner'].value_counts()\n",
    "\n",
    "# total number of matches\n",
    "matches = len(data)\n",
    "\n",
    "toss_probability = (toss_counts / matches)*100\n",
    "toss_probability = round(toss_probability, 2)\n",
    "print(\"Probability distribution of toss results:\")\n",
    "print(toss_probability)"
   ]
  },
  {
   "cell_type": "markdown",
   "id": "d6ea6535",
   "metadata": {},
   "source": [
    "### Probability of a specific outcome in the toss"
   ]
  },
  {
   "cell_type": "code",
   "execution_count": 9,
   "id": "a4b3a83e",
   "metadata": {},
   "outputs": [
    {
     "name": "stdout",
     "output_type": "stream",
     "text": [
      "Probability of Chennai Super Kings choosing to bat after winning the toss:6.35%\n"
     ]
    }
   ],
   "source": [
    "# total number of tosses\n",
    "tosses = len(data)\n",
    "batting_choice = len(data[(data['toss_winner'] == 'Chennai Super Kings') & (data['toss_decision'] == 'bat')])\n",
    "\n",
    "probability = batting_choice / tosses\n",
    "print(\"Probability of Chennai Super Kings choosing to bat after winning the toss:{0:.2f}%\".format(probability*100))"
   ]
  },
  {
   "cell_type": "markdown",
   "id": "28ae6de1",
   "metadata": {},
   "source": [
    "### Probability of a team winning after winning the toss and choosing to field"
   ]
  },
  {
   "cell_type": "code",
   "execution_count": 10,
   "id": "5a666b24",
   "metadata": {},
   "outputs": [
    {
     "name": "stdout",
     "output_type": "stream",
     "text": [
      "Probability of a team winning after winning the toss and choosing to field:34.26%\n"
     ]
    }
   ],
   "source": [
    "# total number of macthes\n",
    "macthes = len(data)\n",
    "toss_field = len(data[(data['toss_decision'] == 'field') & (data['winner'] == data['toss_winner'])])\n",
    "\n",
    "probability = toss_field / macthes\n",
    "print(\"Probability of a team winning after winning the toss and choosing to field:{0:.2f}%\".format(probability*100))"
   ]
  },
  {
   "cell_type": "markdown",
   "id": "ee853f77",
   "metadata": {},
   "source": []
  },
  {
   "cell_type": "code",
   "execution_count": 11,
   "id": "b2a7684d",
   "metadata": {},
   "outputs": [
    {
     "name": "stdout",
     "output_type": "stream",
     "text": [
      "Probability of MS Dhoni being the player of the match and scoring a century:2.25%\n"
     ]
    }
   ],
   "source": [
    "# total number of macthes\n",
    "macthes = len(data)\n",
    "century_matches = len(data[data['player_of_match'] == 'MS Dhoni'])\n",
    "\n",
    "probability = century_matches / macthes\n",
    "print(\"Probability of MS Dhoni being the player of the match and scoring a century:{0:.2f}%\".format(probability*100))"
   ]
  },
  {
   "cell_type": "code",
   "execution_count": null,
   "id": "2d0b9554",
   "metadata": {},
   "outputs": [],
   "source": []
  }
 ],
 "metadata": {
  "kernelspec": {
   "display_name": "porto",
   "language": "python",
   "name": "porto"
  },
  "language_info": {
   "codemirror_mode": {
    "name": "ipython",
    "version": 3
   },
   "file_extension": ".py",
   "mimetype": "text/x-python",
   "name": "python",
   "nbconvert_exporter": "python",
   "pygments_lexer": "ipython3",
   "version": "3.11.5"
  }
 },
 "nbformat": 4,
 "nbformat_minor": 5
}
