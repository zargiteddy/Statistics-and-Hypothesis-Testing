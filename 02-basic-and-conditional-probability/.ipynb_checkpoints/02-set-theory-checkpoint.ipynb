{
 "cells": [
  {
   "cell_type": "markdown",
   "id": "5efda524",
   "metadata": {},
   "source": [
    "# Set Theory"
   ]
  },
  {
   "cell_type": "code",
   "execution_count": 1,
   "id": "03b8db82",
   "metadata": {},
   "outputs": [],
   "source": [
    "import pandas as pd\n",
    "import numpy as np"
   ]
  },
  {
   "cell_type": "code",
   "execution_count": 2,
   "id": "6e1cb443",
   "metadata": {},
   "outputs": [
    {
     "data": {
      "text/html": [
       "<div>\n",
       "<style scoped>\n",
       "    .dataframe tbody tr th:only-of-type {\n",
       "        vertical-align: middle;\n",
       "    }\n",
       "\n",
       "    .dataframe tbody tr th {\n",
       "        vertical-align: top;\n",
       "    }\n",
       "\n",
       "    .dataframe thead th {\n",
       "        text-align: right;\n",
       "    }\n",
       "</style>\n",
       "<table border=\"1\" class=\"dataframe\">\n",
       "  <thead>\n",
       "    <tr style=\"text-align: right;\">\n",
       "      <th></th>\n",
       "      <th>id</th>\n",
       "      <th>Season</th>\n",
       "      <th>city</th>\n",
       "      <th>date</th>\n",
       "      <th>team1</th>\n",
       "      <th>team2</th>\n",
       "      <th>toss_winner</th>\n",
       "      <th>toss_decision</th>\n",
       "      <th>result</th>\n",
       "      <th>dl_applied</th>\n",
       "      <th>winner</th>\n",
       "      <th>win_by_runs</th>\n",
       "      <th>win_by_wickets</th>\n",
       "      <th>player_of_match</th>\n",
       "      <th>venue</th>\n",
       "      <th>umpire1</th>\n",
       "      <th>umpire2</th>\n",
       "      <th>umpire3</th>\n",
       "    </tr>\n",
       "  </thead>\n",
       "  <tbody>\n",
       "    <tr>\n",
       "      <th>0</th>\n",
       "      <td>1</td>\n",
       "      <td>IPL-2017</td>\n",
       "      <td>Hyderabad</td>\n",
       "      <td>2017-05-04 00:00:00</td>\n",
       "      <td>Sunrisers Hyderabad</td>\n",
       "      <td>Royal Challengers Bangalore</td>\n",
       "      <td>Royal Challengers Bangalore</td>\n",
       "      <td>field</td>\n",
       "      <td>normal</td>\n",
       "      <td>0</td>\n",
       "      <td>Sunrisers Hyderabad</td>\n",
       "      <td>35</td>\n",
       "      <td>0</td>\n",
       "      <td>Yuvraj Singh</td>\n",
       "      <td>Rajiv Gandhi International Stadium, Uppal</td>\n",
       "      <td>AY Dandekar</td>\n",
       "      <td>NJ Llong</td>\n",
       "      <td>NaN</td>\n",
       "    </tr>\n",
       "    <tr>\n",
       "      <th>1</th>\n",
       "      <td>2</td>\n",
       "      <td>IPL-2017</td>\n",
       "      <td>Pune</td>\n",
       "      <td>2017-06-04 00:00:00</td>\n",
       "      <td>Mumbai Indians</td>\n",
       "      <td>Rising Pune Supergiant</td>\n",
       "      <td>Rising Pune Supergiant</td>\n",
       "      <td>field</td>\n",
       "      <td>normal</td>\n",
       "      <td>0</td>\n",
       "      <td>Rising Pune Supergiant</td>\n",
       "      <td>0</td>\n",
       "      <td>7</td>\n",
       "      <td>SPD Smith</td>\n",
       "      <td>Maharashtra Cricket Association Stadium</td>\n",
       "      <td>A Nand Kishore</td>\n",
       "      <td>S Ravi</td>\n",
       "      <td>NaN</td>\n",
       "    </tr>\n",
       "    <tr>\n",
       "      <th>2</th>\n",
       "      <td>3</td>\n",
       "      <td>IPL-2017</td>\n",
       "      <td>Rajkot</td>\n",
       "      <td>2017-07-04 00:00:00</td>\n",
       "      <td>Gujarat Lions</td>\n",
       "      <td>Kolkata Knight Riders</td>\n",
       "      <td>Kolkata Knight Riders</td>\n",
       "      <td>field</td>\n",
       "      <td>normal</td>\n",
       "      <td>0</td>\n",
       "      <td>Kolkata Knight Riders</td>\n",
       "      <td>0</td>\n",
       "      <td>10</td>\n",
       "      <td>CA Lynn</td>\n",
       "      <td>Saurashtra Cricket Association Stadium</td>\n",
       "      <td>Nitin Menon</td>\n",
       "      <td>CK Nandan</td>\n",
       "      <td>NaN</td>\n",
       "    </tr>\n",
       "    <tr>\n",
       "      <th>3</th>\n",
       "      <td>4</td>\n",
       "      <td>IPL-2017</td>\n",
       "      <td>Indore</td>\n",
       "      <td>2017-08-04 00:00:00</td>\n",
       "      <td>Rising Pune Supergiant</td>\n",
       "      <td>Kings XI Punjab</td>\n",
       "      <td>Kings XI Punjab</td>\n",
       "      <td>field</td>\n",
       "      <td>normal</td>\n",
       "      <td>0</td>\n",
       "      <td>Kings XI Punjab</td>\n",
       "      <td>0</td>\n",
       "      <td>6</td>\n",
       "      <td>GJ Maxwell</td>\n",
       "      <td>Holkar Cricket Stadium</td>\n",
       "      <td>AK Chaudhary</td>\n",
       "      <td>C Shamshuddin</td>\n",
       "      <td>NaN</td>\n",
       "    </tr>\n",
       "    <tr>\n",
       "      <th>4</th>\n",
       "      <td>5</td>\n",
       "      <td>IPL-2017</td>\n",
       "      <td>Bangalore</td>\n",
       "      <td>2017-08-04 00:00:00</td>\n",
       "      <td>Royal Challengers Bangalore</td>\n",
       "      <td>Delhi Daredevils</td>\n",
       "      <td>Royal Challengers Bangalore</td>\n",
       "      <td>bat</td>\n",
       "      <td>normal</td>\n",
       "      <td>0</td>\n",
       "      <td>Royal Challengers Bangalore</td>\n",
       "      <td>15</td>\n",
       "      <td>0</td>\n",
       "      <td>KM Jadhav</td>\n",
       "      <td>M Chinnaswamy Stadium</td>\n",
       "      <td>NaN</td>\n",
       "      <td>NaN</td>\n",
       "      <td>NaN</td>\n",
       "    </tr>\n",
       "  </tbody>\n",
       "</table>\n",
       "</div>"
      ],
      "text/plain": [
       "   id    Season       city                 date                        team1  \\\n",
       "0   1  IPL-2017  Hyderabad  2017-05-04 00:00:00          Sunrisers Hyderabad   \n",
       "1   2  IPL-2017       Pune  2017-06-04 00:00:00               Mumbai Indians   \n",
       "2   3  IPL-2017     Rajkot  2017-07-04 00:00:00                Gujarat Lions   \n",
       "3   4  IPL-2017     Indore  2017-08-04 00:00:00       Rising Pune Supergiant   \n",
       "4   5  IPL-2017  Bangalore  2017-08-04 00:00:00  Royal Challengers Bangalore   \n",
       "\n",
       "                         team2                  toss_winner toss_decision  \\\n",
       "0  Royal Challengers Bangalore  Royal Challengers Bangalore         field   \n",
       "1       Rising Pune Supergiant       Rising Pune Supergiant         field   \n",
       "2        Kolkata Knight Riders        Kolkata Knight Riders         field   \n",
       "3              Kings XI Punjab              Kings XI Punjab         field   \n",
       "4             Delhi Daredevils  Royal Challengers Bangalore           bat   \n",
       "\n",
       "   result  dl_applied                       winner  win_by_runs  \\\n",
       "0  normal           0          Sunrisers Hyderabad           35   \n",
       "1  normal           0       Rising Pune Supergiant            0   \n",
       "2  normal           0        Kolkata Knight Riders            0   \n",
       "3  normal           0              Kings XI Punjab            0   \n",
       "4  normal           0  Royal Challengers Bangalore           15   \n",
       "\n",
       "   win_by_wickets player_of_match                                      venue  \\\n",
       "0               0    Yuvraj Singh  Rajiv Gandhi International Stadium, Uppal   \n",
       "1               7       SPD Smith    Maharashtra Cricket Association Stadium   \n",
       "2              10         CA Lynn     Saurashtra Cricket Association Stadium   \n",
       "3               6      GJ Maxwell                     Holkar Cricket Stadium   \n",
       "4               0       KM Jadhav                      M Chinnaswamy Stadium   \n",
       "\n",
       "          umpire1        umpire2 umpire3  \n",
       "0     AY Dandekar       NJ Llong     NaN  \n",
       "1  A Nand Kishore         S Ravi     NaN  \n",
       "2     Nitin Menon      CK Nandan     NaN  \n",
       "3    AK Chaudhary  C Shamshuddin     NaN  \n",
       "4             NaN            NaN     NaN  "
      ]
     },
     "execution_count": 2,
     "metadata": {},
     "output_type": "execute_result"
    }
   ],
   "source": [
    "data = pd.read_excel(\"matches.xlsx\")\n",
    "data.head()"
   ]
  },
  {
   "cell_type": "code",
   "execution_count": 3,
   "id": "a5ffbec9",
   "metadata": {},
   "outputs": [
    {
     "name": "stdout",
     "output_type": "stream",
     "text": [
      "Union Set:\n",
      "{'A.D Deshmukh', 'SD Ranade', 'Kumar Dharmasena', 'Subroto Das', 'GAV Baxter', 'VA Kulkarni', 'AY Dandekar', 'VK Sharma', 'RB Tiffin', 'BG Jerling', 'A Nanda Kishore', 'Nand Kishore', 'SJA Taufel', 'SL Shastri', 'BR Doctrove', 'NJ Llong', 'Nitin Menon', 'Yeshwant Barde', 'Bruce Oxenford', 'Nanda Kishore', 'Vineet Kulkarni', 'C Shamshuddin', 'O Nandan', 'RE Koertzen', 'CB Gaffaney', 'A Deshmukh', 'RM Deshpande', 'RJ Tucker', nan, 'CK Nandan', 'Nigel Llong', 'S Ravi', 'PG Pathak', 'Chris Gaffaney', 'DJ Harper', 'AV Jayaprakash', 'A Nand Kishore', 'BF Bowden', 'S Das', 'Asad Rauf', 'SD Fry', 'YC Barde', 'Ulhas Gandhe', 'AM Saheba', 'SJ Davis', 'K Ananthapadmanabhan', 'GA Pratapkumar', 'KN Ananthapadmanabhan', 'AL Hill', 'BNJ Oxenford', 'Virender Kumar Sharma', 'HDPK Dharmasena', 'IL Howell', 'Aleem Dar', 'K Hariharan', 'M Erasmus', 'JD Cloete', 'Anil Chaudhary', 'SS Hazare', 'Marais Erasmus', 'KN Anantapadmanabhan', 'S Asnani', 'Ian Gould', 'K Srinivasan', 'AK Chaudhary', 'I Shivram', 'Anil Dandekar', 'MR Benson', 'K Bharatan', 'Rod Tucker', 'TH Wijewardene', 'K Srinath', 'Sundaram Ravi', 'SK Tarapore', 'PR Reiffel', 'RK Illingworth'}\n"
     ]
    }
   ],
   "source": [
    "# extract enique umpires from the first umpire column\n",
    "umpire1_set = set(data['umpire1'])\n",
    "\n",
    "# extract enique umpires from the second umpire column\n",
    "umpire2_set = set(data['umpire2'])\n",
    "\n",
    "# perform union of umpires from both columns\n",
    "union_set = umpire1_set.union(umpire2_set)\n",
    "\n",
    "print(\"Union Set:\")\n",
    "print(union_set)"
   ]
  },
  {
   "cell_type": "code",
   "execution_count": 5,
   "id": "aff641e3",
   "metadata": {},
   "outputs": [
    {
     "name": "stdout",
     "output_type": "stream",
     "text": [
      "Intersection Set:\n",
      "{'AV Jayaprakash', 'A Nand Kishore', 'HDPK Dharmasena', 'IL Howell', 'SJA Taufel', 'K Hariharan', 'M Erasmus', 'JD Cloete', 'SL Shastri', 'Anil Chaudhary', 'SS Hazare', 'BR Doctrove', 'Kumar Dharmasena', 'NJ Llong', 'VA Kulkarni', 'Nitin Menon', 'S Asnani', 'Yeshwant Barde', 'Bruce Oxenford', 'Ian Gould', 'Nanda Kishore', 'S Das', 'Vineet Kulkarni', 'AK Chaudhary', 'SD Fry', 'C Shamshuddin', 'O Nandan', 'Ulhas Gandhe', 'RE Koertzen', 'Anil Dandekar', 'CB Gaffaney', 'A Deshmukh', 'SJ Davis', 'AM Saheba', 'K Ananthapadmanabhan', 'MR Benson', nan, 'CK Nandan', 'Rod Tucker', 'K Srinath', 'Nigel Llong', 'KN Ananthapadmanabhan', 'BG Jerling', 'S Ravi', 'PG Pathak', 'SK Tarapore', 'Chris Gaffaney', 'PR Reiffel', 'RK Illingworth', 'A Nanda Kishore', 'DJ Harper', 'BNJ Oxenford'}\n"
     ]
    }
   ],
   "source": [
    "# perform intersection of umpires from both columns\n",
    "intersection_set = umpire1_set.intersection(umpire2_set)\n",
    "\n",
    "print(\"Intersection Set:\")\n",
    "print(intersection_set)"
   ]
  },
  {
   "cell_type": "code",
   "execution_count": 6,
   "id": "4e70613c",
   "metadata": {},
   "outputs": [
    {
     "name": "stdout",
     "output_type": "stream",
     "text": [
      "Difference (Umpire1 - Umpire2) Set:\n",
      "{'Marais Erasmus', 'YC Barde', 'GAV Baxter', 'Aleem Dar', 'Sundaram Ravi', 'AY Dandekar', 'RM Deshpande', 'K Bharatan', 'Asad Rauf', 'BF Bowden'}\n"
     ]
    }
   ],
   "source": [
    "# perform difference between umpires of the first column and second column\n",
    "difference1_set = umpire1_set.difference(umpire2_set)\n",
    "\n",
    "print(\"Difference (Umpire1 - Umpire2) Set:\")\n",
    "print(difference1_set)"
   ]
  },
  {
   "cell_type": "code",
   "execution_count": null,
   "id": "18a6739b",
   "metadata": {},
   "outputs": [],
   "source": []
  }
 ],
 "metadata": {
  "kernelspec": {
   "display_name": "porto",
   "language": "python",
   "name": "porto"
  },
  "language_info": {
   "codemirror_mode": {
    "name": "ipython",
    "version": 3
   },
   "file_extension": ".py",
   "mimetype": "text/x-python",
   "name": "python",
   "nbconvert_exporter": "python",
   "pygments_lexer": "ipython3",
   "version": "3.11.5"
  }
 },
 "nbformat": 4,
 "nbformat_minor": 5
}
