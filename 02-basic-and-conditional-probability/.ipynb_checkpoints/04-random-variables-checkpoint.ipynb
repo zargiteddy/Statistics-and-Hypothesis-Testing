{
 "cells": [
  {
   "cell_type": "markdown",
   "id": "935723b8",
   "metadata": {},
   "source": [
    "# Random Variables\n",
    "\n",
    "a mathematical concept that assigns a numerical value to each possible outcome of a random event. It represents the uncertain outcome of a random process and serves as a way to quantify and analyze the probabillities associated with different outcomes."
   ]
  },
  {
   "cell_type": "code",
   "execution_count": 2,
   "id": "14364d74",
   "metadata": {},
   "outputs": [
    {
     "name": "stdout",
     "output_type": "stream",
     "text": [
      "Rolled value:  4\n"
     ]
    }
   ],
   "source": [
    "import random\n",
    "\n",
    "# discrete random variable\n",
    "outcomes = [1, 2, 3, 4, 5, 6]\n",
    "rolled_value = random.choice(outcomes)\n",
    "print(\"Rolled value: \",rolled_value)"
   ]
  },
  {
   "cell_type": "code",
   "execution_count": 3,
   "id": "f343758d",
   "metadata": {},
   "outputs": [
    {
     "name": "stdout",
     "output_type": "stream",
     "text": [
      "Random value: 0.37085705587860573\n"
     ]
    }
   ],
   "source": [
    "# continuous random variable\n",
    "random_value = random.random()\n",
    "print(\"Random value:\", random_value)"
   ]
  },
  {
   "cell_type": "code",
   "execution_count": null,
   "id": "ccc90a5d",
   "metadata": {},
   "outputs": [],
   "source": []
  }
 ],
 "metadata": {
  "kernelspec": {
   "display_name": "porto",
   "language": "python",
   "name": "porto"
  },
  "language_info": {
   "codemirror_mode": {
    "name": "ipython",
    "version": 3
   },
   "file_extension": ".py",
   "mimetype": "text/x-python",
   "name": "python",
   "nbconvert_exporter": "python",
   "pygments_lexer": "ipython3",
   "version": "3.11.5"
  }
 },
 "nbformat": 4,
 "nbformat_minor": 5
}
